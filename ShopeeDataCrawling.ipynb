{
  "nbformat": 4,
  "nbformat_minor": 0,
  "metadata": {
    "colab": {
      "name": "ShopeeDataCrawling2.ipynb",
      "provenance": [],
      "collapsed_sections": [],
      "authorship_tag": "ABX9TyMBUCPzW09y7z25Fhc9Xsf9",
      "include_colab_link": true
    },
    "kernelspec": {
      "display_name": "Python 3",
      "name": "python3"
    },
    "language_info": {
      "name": "python"
    }
  },
  "cells": [
    {
      "cell_type": "markdown",
      "metadata": {
        "id": "view-in-github",
        "colab_type": "text"
      },
      "source": [
        "<a href=\"https://colab.research.google.com/github/bluezdot/ShopeeImageData/blob/main/ShopeeDataCrawling.ipynb\" target=\"_parent\"><img src=\"https://colab.research.google.com/assets/colab-badge.svg\" alt=\"Open In Colab\"/></a>"
      ]
    },
    {
      "cell_type": "code",
      "metadata": {
        "colab": {
          "base_uri": "https://localhost:8080/"
        },
        "id": "aqSgjz-PtvZm",
        "outputId": "afd57a92-390e-4092-bc8d-e2adff15b613"
      },
      "source": [
        "!pip install ipython-autotime\n",
        "%load_ext autotime"
      ],
      "execution_count": 2,
      "outputs": [
        {
          "output_type": "stream",
          "name": "stdout",
          "text": [
            "Collecting ipython-autotime\n",
            "  Downloading ipython_autotime-0.3.1-py2.py3-none-any.whl (6.8 kB)\n",
            "Requirement already satisfied: ipython in /usr/local/lib/python3.7/dist-packages (from ipython-autotime) (5.5.0)\n",
            "Requirement already satisfied: setuptools>=18.5 in /usr/local/lib/python3.7/dist-packages (from ipython->ipython-autotime) (57.4.0)\n",
            "Requirement already satisfied: pygments in /usr/local/lib/python3.7/dist-packages (from ipython->ipython-autotime) (2.6.1)\n",
            "Requirement already satisfied: decorator in /usr/local/lib/python3.7/dist-packages (from ipython->ipython-autotime) (4.4.2)\n",
            "Requirement already satisfied: simplegeneric>0.8 in /usr/local/lib/python3.7/dist-packages (from ipython->ipython-autotime) (0.8.1)\n",
            "Requirement already satisfied: prompt-toolkit<2.0.0,>=1.0.4 in /usr/local/lib/python3.7/dist-packages (from ipython->ipython-autotime) (1.0.18)\n",
            "Requirement already satisfied: pexpect in /usr/local/lib/python3.7/dist-packages (from ipython->ipython-autotime) (4.8.0)\n",
            "Requirement already satisfied: traitlets>=4.2 in /usr/local/lib/python3.7/dist-packages (from ipython->ipython-autotime) (5.1.1)\n",
            "Requirement already satisfied: pickleshare in /usr/local/lib/python3.7/dist-packages (from ipython->ipython-autotime) (0.7.5)\n",
            "Requirement already satisfied: six>=1.9.0 in /usr/local/lib/python3.7/dist-packages (from prompt-toolkit<2.0.0,>=1.0.4->ipython->ipython-autotime) (1.15.0)\n",
            "Requirement already satisfied: wcwidth in /usr/local/lib/python3.7/dist-packages (from prompt-toolkit<2.0.0,>=1.0.4->ipython->ipython-autotime) (0.2.5)\n",
            "Requirement already satisfied: ptyprocess>=0.5 in /usr/local/lib/python3.7/dist-packages (from pexpect->ipython->ipython-autotime) (0.7.0)\n",
            "Installing collected packages: ipython-autotime\n",
            "Successfully installed ipython-autotime-0.3.1\n",
            "time: 194 µs (started: 2021-12-01 12:14:13 +00:00)\n"
          ]
        }
      ]
    },
    {
      "cell_type": "code",
      "metadata": {
        "colab": {
          "base_uri": "https://localhost:8080/"
        },
        "id": "oxms-X8ngLTO",
        "outputId": "b2d4b3df-d893-4505-f604-543ac4f1ac77"
      },
      "source": [
        "pip install requests"
      ],
      "execution_count": 3,
      "outputs": [
        {
          "output_type": "stream",
          "name": "stdout",
          "text": [
            "Requirement already satisfied: requests in /usr/local/lib/python3.7/dist-packages (2.23.0)\n",
            "Requirement already satisfied: idna<3,>=2.5 in /usr/local/lib/python3.7/dist-packages (from requests) (2.10)\n",
            "Requirement already satisfied: urllib3!=1.25.0,!=1.25.1,<1.26,>=1.21.1 in /usr/local/lib/python3.7/dist-packages (from requests) (1.24.3)\n",
            "Requirement already satisfied: certifi>=2017.4.17 in /usr/local/lib/python3.7/dist-packages (from requests) (2021.10.8)\n",
            "Requirement already satisfied: chardet<4,>=3.0.2 in /usr/local/lib/python3.7/dist-packages (from requests) (3.0.4)\n",
            "time: 3.24 s (started: 2021-12-01 12:14:13 +00:00)\n"
          ]
        }
      ]
    },
    {
      "cell_type": "code",
      "metadata": {
        "colab": {
          "base_uri": "https://localhost:8080/"
        },
        "id": "O1V5O23yfsdt",
        "outputId": "0855938d-9e70-4f9e-858e-52d6fba30324"
      },
      "source": [
        "import requests\n",
        "import json\n",
        "from bs4 import BeautifulSoup\n",
        "import csv\n",
        "\n",
        "url = 'https://shopee.vn/api/v4/pages/get_homepage_category_list' # to get catagories id \n",
        "response = requests.get(url)\n",
        "soup = BeautifulSoup(response.content, 'html.parser') # get html of url\n"
      ],
      "execution_count": 4,
      "outputs": [
        {
          "output_type": "stream",
          "name": "stdout",
          "text": [
            "time: 1.12 s (started: 2021-12-01 12:14:16 +00:00)\n"
          ]
        }
      ]
    },
    {
      "cell_type": "code",
      "metadata": {
        "colab": {
          "base_uri": "https://localhost:8080/"
        },
        "id": "iShJVX1Of451",
        "outputId": "5fe270d3-89d4-41f0-bbd3-83ac7305c13d"
      },
      "source": [
        "data = json.loads(soup.prettify()) # convert bs4 -> json\n",
        "data"
      ],
      "execution_count": 5,
      "outputs": [
        {
          "output_type": "execute_result",
          "data": {
            "text/plain": [
              "{'data': {'category_list': [{'block_buyer_platform': None,\n",
              "    'catid': 11035567,\n",
              "    'children': None,\n",
              "    'display_name': 'Thời Trang Nam',\n",
              "    'image': '687f3967b7c2fe6a134a2c11894eea4b',\n",
              "    'level': 1,\n",
              "    'name': 'Men Clothes',\n",
              "    'parent_catid': 0,\n",
              "    'selected_image': '9131b98c529e7ccfffc36193432aa927',\n",
              "    'unselected_image': 'fe2d27d140e1f34855c1bfe3168c1b58'},\n",
              "   {'block_buyer_platform': None,\n",
              "    'catid': 11035639,\n",
              "    'children': None,\n",
              "    'display_name': 'Thời Trang Nữ',\n",
              "    'image': '75ea42f9eca124e9cb3cde744c060e4d',\n",
              "    'level': 1,\n",
              "    'name': 'Women Clothes',\n",
              "    'parent_catid': 0,\n",
              "    'selected_image': '7002b396e4d22be3decacceeef762265',\n",
              "    'unselected_image': '293ca6f400001a38f477ef1c8ebe2831'},\n",
              "   {'block_buyer_platform': None,\n",
              "    'catid': 11036030,\n",
              "    'children': None,\n",
              "    'display_name': 'Điện Thoại & Phụ Kiện',\n",
              "    'image': '31234a27876fb89cd522d7e3db1ba5ca',\n",
              "    'level': 1,\n",
              "    'name': 'Mobile & Gadgets',\n",
              "    'parent_catid': 0,\n",
              "    'selected_image': '070098d9b3cf1a1d35be2a6ef1bb3cd0',\n",
              "    'unselected_image': '94fb4fb95a8598e8d31f0853f904c15b'},\n",
              "   {'block_buyer_platform': None,\n",
              "    'catid': 11036194,\n",
              "    'children': None,\n",
              "    'display_name': 'Mẹ & Bé',\n",
              "    'image': '099edde1ab31df35bc255912bab54a5e',\n",
              "    'level': 1,\n",
              "    'name': 'Moms, Kids & Babies',\n",
              "    'parent_catid': 0,\n",
              "    'selected_image': '9b56c2810b51f8a017b76c3cefc84daf',\n",
              "    'unselected_image': 'f91ae14aebd454762ab61136ebcec4e0'},\n",
              "   {'block_buyer_platform': None,\n",
              "    'catid': 11036132,\n",
              "    'children': None,\n",
              "    'display_name': 'Thiết Bị Điện Tử',\n",
              "    'image': '978b9e4cb61c611aaaf58664fae133c5',\n",
              "    'level': 1,\n",
              "    'name': 'Consumer Electronics',\n",
              "    'parent_catid': 0,\n",
              "    'selected_image': '067bd7ff52bd0d3700d9b0af722e83c9',\n",
              "    'unselected_image': '4a6a4d8230cf961e18636fbf91bad4b5'},\n",
              "   {'block_buyer_platform': None,\n",
              "    'catid': 11036670,\n",
              "    'children': None,\n",
              "    'display_name': 'Nhà Cửa & Đời Sống',\n",
              "    'image': '24b194a695ea59d384768b7b471d563f',\n",
              "    'level': 1,\n",
              "    'name': 'Home & Living',\n",
              "    'parent_catid': 0,\n",
              "    'selected_image': '63dd94360f8ff81d83b9fa9ce9496381',\n",
              "    'unselected_image': 'b4768dabefb27ea9c7729d503f954ce8'},\n",
              "   {'block_buyer_platform': None,\n",
              "    'catid': 11035954,\n",
              "    'children': None,\n",
              "    'display_name': 'Máy Tính & Laptop',\n",
              "    'image': 'c3f3edfaa9f6dafc4825b77d8449999d',\n",
              "    'level': 1,\n",
              "    'name': 'Computer & Accessories',\n",
              "    'parent_catid': 0,\n",
              "    'selected_image': 'c5f9534c31bcaa89f36b644454c8771b',\n",
              "    'unselected_image': '688db8a2d094a46c612389f24af4dfd8'},\n",
              "   {'block_buyer_platform': None,\n",
              "    'catid': 11036279,\n",
              "    'children': None,\n",
              "    'display_name': 'Sắc Đẹp',\n",
              "    'image': 'c765998fda99b2be9eb6e348df29af28',\n",
              "    'level': 1,\n",
              "    'name': 'Beauty',\n",
              "    'parent_catid': 0,\n",
              "    'selected_image': 'da035603628acbe11df1b6e757d96655',\n",
              "    'unselected_image': '5ea08600765192186cc1bb31ceb719f0'},\n",
              "   {'block_buyer_platform': None,\n",
              "    'catid': 11036101,\n",
              "    'children': None,\n",
              "    'display_name': 'Máy Ảnh & Máy Quay Phim',\n",
              "    'image': 'ec14dd4fc238e676e43be2a911414d4d',\n",
              "    'level': 1,\n",
              "    'name': 'Cameras',\n",
              "    'parent_catid': 0,\n",
              "    'selected_image': '1117fe83f17d2f9ca76a5a632e12a793',\n",
              "    'unselected_image': 'cad05553acc3e531f2dac3cac4fd1022'},\n",
              "   {'block_buyer_platform': None,\n",
              "    'catid': 11036345,\n",
              "    'children': None,\n",
              "    'display_name': 'Sức Khỏe',\n",
              "    'image': 'bf87b50b463f646bb7fb8a1a606d9ed2',\n",
              "    'level': 1,\n",
              "    'name': 'Health',\n",
              "    'parent_catid': 0,\n",
              "    'selected_image': '347d4d500d1ac50d18ccddacacf26091',\n",
              "    'unselected_image': '118b6d1eadc9777ae2feaf49d7c61726'},\n",
              "   {'block_buyer_platform': None,\n",
              "    'catid': 11035788,\n",
              "    'children': None,\n",
              "    'display_name': 'Đồng Hồ',\n",
              "    'image': '86c294aae72ca1db5f541790f7796260',\n",
              "    'level': 1,\n",
              "    'name': 'Watches',\n",
              "    'parent_catid': 0,\n",
              "    'selected_image': 'bbd89d8d0f95421cd4c790fd22dabaf0',\n",
              "    'unselected_image': '56d77cda9b0208f3bec21f570d2e26c2'},\n",
              "   {'block_buyer_platform': None,\n",
              "    'catid': 11035825,\n",
              "    'children': None,\n",
              "    'display_name': 'Giày Dép Nữ',\n",
              "    'image': '48630b7c76a7b62bc070c9e227097847',\n",
              "    'level': 1,\n",
              "    'name': 'Women Shoes',\n",
              "    'parent_catid': 0,\n",
              "    'selected_image': '6c654425dd4daba15ce423853813b689',\n",
              "    'unselected_image': '95c7cfcab1857d1e356b506297c9e26e'},\n",
              "   {'block_buyer_platform': None,\n",
              "    'catid': 11035801,\n",
              "    'children': None,\n",
              "    'display_name': 'Giày Dép Nam',\n",
              "    'image': '74ca517e1fa74dc4d974e5d03c3139de',\n",
              "    'level': 1,\n",
              "    'name': 'Men Shoes',\n",
              "    'parent_catid': 0,\n",
              "    'selected_image': 'de1b3beb5a3aa573a9130fab9b4663da',\n",
              "    'unselected_image': '5397917c0fc79a96797a97ad3f2ee59c'},\n",
              "   {'block_buyer_platform': None,\n",
              "    'catid': 11035761,\n",
              "    'children': None,\n",
              "    'display_name': 'Túi Ví Nữ',\n",
              "    'image': 'fa6ada2555e8e51f369718bbc92ccc52',\n",
              "    'level': 1,\n",
              "    'name': 'Women Bags',\n",
              "    'parent_catid': 0,\n",
              "    'selected_image': 'eda7c8905f68ff40890d13731f278de4',\n",
              "    'unselected_image': 'fbb6eec19ab6feac776f7f8ca40dd89a'},\n",
              "   {'block_buyer_platform': None,\n",
              "    'catid': 11036971,\n",
              "    'children': None,\n",
              "    'display_name': 'Thiết Bị Điện Gia Dụng',\n",
              "    'image': '7abfbfee3c4844652b4a8245e473d857',\n",
              "    'level': 1,\n",
              "    'name': 'Home Appliances',\n",
              "    'parent_catid': 0,\n",
              "    'selected_image': '65ff2e742e8e3466cbfbc6eff431fe9f',\n",
              "    'unselected_image': '1fc1b537e2ed6321c2ebdf7eeba11ec1'},\n",
              "   {'block_buyer_platform': None,\n",
              "    'catid': 11035853,\n",
              "    'children': None,\n",
              "    'display_name': 'Phụ Kiện & Trang Sức Nữ',\n",
              "    'image': '8e71245b9659ea72c1b4e737be5cf42e',\n",
              "    'level': 1,\n",
              "    'name': 'Fashion Accessories',\n",
              "    'parent_catid': 0,\n",
              "    'selected_image': 'a9b79913f2ae701618da858bf2b569ee',\n",
              "    'unselected_image': '1930d4de2b6cc845949c877114222564'},\n",
              "   {'block_buyer_platform': None,\n",
              "    'catid': 11035478,\n",
              "    'children': None,\n",
              "    'display_name': 'Thể Thao & Du Lịch',\n",
              "    'image': '6cb7e633f8b63757463b676bd19a50e4',\n",
              "    'level': 1,\n",
              "    'name': 'Sport & Outdoor',\n",
              "    'parent_catid': 0,\n",
              "    'selected_image': 'f0c4060c01a9d91a9bc50c2dcb6154a8',\n",
              "    'unselected_image': 'ee0535ee782827d3b77e3996692cec2d'},\n",
              "   {'block_buyer_platform': None,\n",
              "    'catid': 11036525,\n",
              "    'children': None,\n",
              "    'display_name': 'Bách Hóa Online',\n",
              "    'image': 'c432168ee788f903f1ea024487f2c889',\n",
              "    'level': 1,\n",
              "    'name': 'Grocery',\n",
              "    'parent_catid': 0,\n",
              "    'selected_image': 'fd6c15cc6a8963d2bc5b19f852d17c5e',\n",
              "    'unselected_image': 'd8518d1eb9ee0ac33c3fc99a2529b03b'},\n",
              "   {'block_buyer_platform': None,\n",
              "    'catid': 11036793,\n",
              "    'children': None,\n",
              "    'display_name': 'Ô Tô & Xe Máy & Xe Đạp',\n",
              "    'image': '3fb459e3449905545701b418e8220334',\n",
              "    'level': 1,\n",
              "    'name': 'Automotive',\n",
              "    'parent_catid': 0,\n",
              "    'selected_image': 'c2eb7ffffdb93f6296cf85c7bec0c927',\n",
              "    'unselected_image': '1f24979b9bb6675e00b87a677389b480'},\n",
              "   {'block_buyer_platform': None,\n",
              "    'catid': 11036863,\n",
              "    'children': None,\n",
              "    'display_name': 'Nhà Sách Online',\n",
              "    'image': '36013311815c55d303b0e6c62d6a8139',\n",
              "    'level': 1,\n",
              "    'name': 'Books & Stationery',\n",
              "    'parent_catid': 0,\n",
              "    'selected_image': '8e1b2ed3e90b6630eb58166f23d3eb70',\n",
              "    'unselected_image': '16018f8a6ecc494a2ebe109cba1e9a4e'},\n",
              "   {'block_buyer_platform': None,\n",
              "    'catid': 11035741,\n",
              "    'children': None,\n",
              "    'display_name': 'Balo & Túi Ví Nam',\n",
              "    'image': '18fd9d878ad946db2f1bf4e33760c86f',\n",
              "    'level': 1,\n",
              "    'name': 'Men Bags',\n",
              "    'parent_catid': 0,\n",
              "    'selected_image': 'b3cb433e75a3f0aab069c80fb48280bd',\n",
              "    'unselected_image': '1f5e01250f659c1b7e1790e80d5fb05e'},\n",
              "   {'block_buyer_platform': None,\n",
              "    'catid': 11036382,\n",
              "    'children': None,\n",
              "    'display_name': 'Thời Trang Trẻ Em',\n",
              "    'image': '4540f87aa3cbe99db739f9e8dd2cdaf0',\n",
              "    'level': 1,\n",
              "    'name': 'Kid Fashion',\n",
              "    'parent_catid': 0,\n",
              "    'selected_image': 'd8374906ec15e1f44db297ea4cf1f26f',\n",
              "    'unselected_image': 'b8ddeedbfc01d8220d724f2c18cf952b'},\n",
              "   {'block_buyer_platform': None,\n",
              "    'catid': 11036932,\n",
              "    'children': None,\n",
              "    'display_name': 'Đồ Chơi',\n",
              "    'image': 'ce8f8abc726cafff671d0e5311caa684',\n",
              "    'level': 1,\n",
              "    'name': 'Toys',\n",
              "    'parent_catid': 0,\n",
              "    'selected_image': 'afce35fc8b0190a75573ed6720feb0f2',\n",
              "    'unselected_image': 'dcaf4ddf25237dada21919de3a793997'},\n",
              "   {'block_buyer_platform': None,\n",
              "    'catid': 11036624,\n",
              "    'children': None,\n",
              "    'display_name': 'Giặt Giũ & Chăm Sóc Nhà Cửa',\n",
              "    'image': 'cd8e0d2e6c14c4904058ae20821d0763',\n",
              "    'level': 1,\n",
              "    'name': 'Home care',\n",
              "    'parent_catid': 0,\n",
              "    'selected_image': '0c76703bc8f67211d48ed8eee8d40397',\n",
              "    'unselected_image': '90620cf8cc077ae609edf755bf1642ef'},\n",
              "   {'block_buyer_platform': None,\n",
              "    'catid': 11036478,\n",
              "    'children': None,\n",
              "    'display_name': 'Chăm Sóc Thú Cưng',\n",
              "    'image': 'cdf21b1bf4bfff257efe29054ecea1ec',\n",
              "    'level': 1,\n",
              "    'name': 'Pets',\n",
              "    'parent_catid': 0,\n",
              "    'selected_image': '3ac5b4f5c0585510919245b8836cc8e2',\n",
              "    'unselected_image': 'ff60a2f3ce61b7203efcd84ca2f11c6f'},\n",
              "   {'block_buyer_platform': [3, 1, 5, 4, 2],\n",
              "    'catid': 11082137,\n",
              "    'children': None,\n",
              "    'display_name': 'Deal Gần Bạn',\n",
              "    'image': '05a94dadbddcf5414668f1ebabf9d33c',\n",
              "    'level': 1,\n",
              "    'name': 'Deals Near Me',\n",
              "    'parent_catid': 0,\n",
              "    'selected_image': 'b5580963f62a969f14d3e76314864c64',\n",
              "    'unselected_image': '42a02fa8a028aa1a657631580465bb5d'},\n",
              "   {'block_buyer_platform': None,\n",
              "    'catid': 11035898,\n",
              "    'children': None,\n",
              "    'display_name': 'Voucher & Dịch Vụ',\n",
              "    'image': 'b0f78c3136d2d78d49af71dd1c3f38c1',\n",
              "    'level': 1,\n",
              "    'name': 'Tickets, Vouchers & Services',\n",
              "    'parent_catid': 0,\n",
              "    'selected_image': 'd56374d76af80ef9e91bc95c1906d12d',\n",
              "    'unselected_image': '72ac9e8fa774d1b66f1390e3a4c564fe'}]},\n",
              " 'error': 0,\n",
              " 'error_msg': ''}"
            ]
          },
          "metadata": {},
          "execution_count": 5
        },
        {
          "output_type": "stream",
          "name": "stdout",
          "text": [
            "time: 14.9 ms (started: 2021-12-01 12:14:27 +00:00)\n"
          ]
        }
      ]
    },
    {
      "cell_type": "code",
      "metadata": {
        "colab": {
          "base_uri": "https://localhost:8080/"
        },
        "id": "IdGfoqe2gg4A",
        "outputId": "ba207235-fff5-4145-b53a-c881d01cef7d"
      },
      "source": [
        "cat_list = data['data']['category_list'] # list of categories\n",
        "cat_list.pop(25) # pop out \"Deal Gần Bạn\", it's not really a categories\n",
        "print(len(cat_list),) # number of categories"
      ],
      "execution_count": 12,
      "outputs": [
        {
          "output_type": "stream",
          "name": "stdout",
          "text": [
            "26\n",
            "time: 2.51 ms (started: 2021-12-01 12:17:42 +00:00)\n"
          ]
        }
      ]
    },
    {
      "cell_type": "markdown",
      "metadata": {
        "id": "DFXvg6vqrC7a"
      },
      "source": [
        "Mean that there are 26 categories \\\n",
        "Next, we get a list of categories id"
      ]
    },
    {
      "cell_type": "code",
      "metadata": {
        "colab": {
          "base_uri": "https://localhost:8080/"
        },
        "id": "_mgdNiH3ifLO",
        "outputId": "4c0b08d9-41dc-4758-f675-efeaa9797b98"
      },
      "source": [
        "cat_id_list = []\n",
        "for cati in cat_list:\n",
        "    cat_id_list.append(cati['catid'])\n",
        "cat_id_list # list of categories id"
      ],
      "execution_count": 13,
      "outputs": [
        {
          "output_type": "execute_result",
          "data": {
            "text/plain": [
              "[11035567,\n",
              " 11035639,\n",
              " 11036030,\n",
              " 11036194,\n",
              " 11036132,\n",
              " 11036670,\n",
              " 11035954,\n",
              " 11036279,\n",
              " 11036101,\n",
              " 11036345,\n",
              " 11035788,\n",
              " 11035825,\n",
              " 11035801,\n",
              " 11035761,\n",
              " 11036971,\n",
              " 11035853,\n",
              " 11035478,\n",
              " 11036525,\n",
              " 11036793,\n",
              " 11036863,\n",
              " 11035741,\n",
              " 11036382,\n",
              " 11036932,\n",
              " 11036624,\n",
              " 11036478,\n",
              " 11035898]"
            ]
          },
          "metadata": {},
          "execution_count": 13
        },
        {
          "output_type": "stream",
          "name": "stdout",
          "text": [
            "time: 6.48 ms (started: 2021-12-01 12:17:49 +00:00)\n"
          ]
        }
      ]
    },
    {
      "cell_type": "code",
      "metadata": {
        "colab": {
          "base_uri": "https://localhost:8080/"
        },
        "id": "ri5TivjkkEt4",
        "outputId": "2d8123e6-f6dd-4300-833e-9ccea17b0f9f"
      },
      "source": [
        "# # --- THIS IS FOR CRAWLING 600 ROWS OF DATA --- \n",
        "\n",
        "# header = ['item_id', 'shop_id', 'title', 'image_id'] # attributes of data\n",
        "\n",
        "# with open('shopee600.csv', 'w', encoding='UTF8', newline='') as f:\n",
        "#     writer = csv.writer(f)\n",
        "#     writer.writerow(header) # write the header\n",
        "\n",
        "\n",
        "#     # write data\n",
        "\n",
        "#     for catid in cat_id_list[:10]: # get data from each category\n",
        "#         url_cat = f'https://shopee.vn/api/v4/search/search_items?by=relevancy&limit=60&match_id={catid}&newest=0&order=desc&page_type=search&scenario=PAGE_OTHERS&version=2' # catid to declare what category; start to declare which page of that category, page = start + 1 + i\n",
        "#         response_cat = requests.get(url_cat)\n",
        "#         soup_cat = BeautifulSoup(response_cat.content, 'html.parser')\n",
        "#         data_cat = json.loads(soup_cat.prettify()) # convert bs4 -> json\n",
        "#         item_list = data_cat['items'] # list of items\n",
        "#         for item in item_list:\n",
        "#             item = item['item_basic']\n",
        "            \n",
        "#             itemid = item['itemid']\n",
        "#             shopid = item['shopid']\n",
        "#             title = item['name']\n",
        "#             image = item['image']\n",
        "#             writer.writerow([itemid, shopid, title, image])\n",
        "# print('\\n', 'Completely Writing the Data !!!')\n",
        "\n",
        "\n",
        "\n",
        "# --- THIS IS FOR CRAWLING 81000 ROWS OF DATA --- \n",
        "\n",
        "header = ['item_id', 'shop_id', 'title', 'image_id'] # attributes of data\n",
        "\n",
        "with open('shopee78000.csv', 'w', encoding='UTF8', newline='') as f:\n",
        "    writer = csv.writer(f)\n",
        "    writer.writerow(header) # write the header\n",
        "\n",
        "\n",
        "    '''\n",
        "    write data\n",
        "    '''\n",
        "    for catid in cat_id_list[:]: # get data from each category\n",
        "        start = 0\n",
        "        for i in range(50): # each category, get 50 pages of data\n",
        "            url_cat = f'https://shopee.vn/api/v4/search/search_items?by=relevancy&limit=60&match_id={catid}&newest={start}&order=desc&page_type=search&scenario=PAGE_OTHERS&version=2' # catid to declare what category; start to declare which page of that category, page = start + 1 + i\n",
        "            response_cat = requests.get(url_cat)\n",
        "            soup_cat = BeautifulSoup(response_cat.content, 'html.parser')\n",
        "            data_cat = json.loads(soup_cat.prettify()) # convert bs4 -> json\n",
        "            item_list = data_cat['items'] # list of items\n",
        "            for item in item_list:\n",
        "                item = item['item_basic']\n",
        "                \n",
        "                itemid = item['itemid']\n",
        "                shopid = item['shopid']\n",
        "                title = item['name']\n",
        "                image = item['image']\n",
        "                writer.writerow([itemid, shopid, title, image])\n",
        "            start = start + 60 # go to the next page of products\n",
        "print('\\n', 'Completely Writing the Data !!!')"
      ],
      "execution_count": 15,
      "outputs": [
        {
          "output_type": "stream",
          "name": "stdout",
          "text": [
            "\n",
            " Completely Writing the Data !!!\n",
            "time: 1h 20min 35s (started: 2021-12-01 12:24:33 +00:00)\n"
          ]
        }
      ]
    },
    {
      "cell_type": "markdown",
      "metadata": {
        "id": "sv4rnKSorqR6"
      },
      "source": [
        "We review some data to check"
      ]
    },
    {
      "cell_type": "code",
      "metadata": {
        "colab": {
          "base_uri": "https://localhost:8080/",
          "height": 380
        },
        "id": "Z0eRY1CMrvGH",
        "outputId": "6f99c698-9f8f-4dea-bc55-a5e818dd8f50"
      },
      "source": [
        "import pandas as pd \n",
        "df = pd.read_csv('./shopee78000.csv')\n",
        "df.head(10)"
      ],
      "execution_count": 18,
      "outputs": [
        {
          "output_type": "execute_result",
          "data": {
            "text/html": [
              "<div>\n",
              "<style scoped>\n",
              "    .dataframe tbody tr th:only-of-type {\n",
              "        vertical-align: middle;\n",
              "    }\n",
              "\n",
              "    .dataframe tbody tr th {\n",
              "        vertical-align: top;\n",
              "    }\n",
              "\n",
              "    .dataframe thead th {\n",
              "        text-align: right;\n",
              "    }\n",
              "</style>\n",
              "<table border=\"1\" class=\"dataframe\">\n",
              "  <thead>\n",
              "    <tr style=\"text-align: right;\">\n",
              "      <th></th>\n",
              "      <th>item_id</th>\n",
              "      <th>shop_id</th>\n",
              "      <th>title</th>\n",
              "      <th>image_id</th>\n",
              "    </tr>\n",
              "  </thead>\n",
              "  <tbody>\n",
              "    <tr>\n",
              "      <th>0</th>\n",
              "      <td>13137587503</td>\n",
              "      <td>475419989</td>\n",
              "      <td>Áo giữ nhiệt nam co dãn 4 chiều, áo thun giữ n...</td>\n",
              "      <td>1e10457a0d8a5d93003ba4b7eb70624f</td>\n",
              "    </tr>\n",
              "    <tr>\n",
              "      <th>1</th>\n",
              "      <td>9742055201</td>\n",
              "      <td>299400775</td>\n",
              "      <td>Mũ lưỡi trai ❤️ Nón kết thêu chữ Memorie phong...</td>\n",
              "      <td>b2612c1a8242069aced2f2f26b592f38</td>\n",
              "    </tr>\n",
              "    <tr>\n",
              "      <th>2</th>\n",
              "      <td>8929441063</td>\n",
              "      <td>201774917</td>\n",
              "      <td>Quần đùi nam GUZADO Vải Gió Cao Cấp,Siêu nhẹ t...</td>\n",
              "      <td>aa02567dcbe0710ff304f42abbf06b24</td>\n",
              "    </tr>\n",
              "    <tr>\n",
              "      <th>3</th>\n",
              "      <td>3554096264</td>\n",
              "      <td>257372007</td>\n",
              "      <td>Áo thun Unisex N7 Basic Tee phông trơn nam nữ ...</td>\n",
              "      <td>1d33bcd9977a02c305fa241575bad7de</td>\n",
              "    </tr>\n",
              "    <tr>\n",
              "      <th>4</th>\n",
              "      <td>6662844741</td>\n",
              "      <td>27228264</td>\n",
              "      <td>[Mã 2611THTRANG100K hoàn 10% xu đơn 99K] Áo Ho...</td>\n",
              "      <td>6d67f18b6dd6be0a116a5f841f891375</td>\n",
              "    </tr>\n",
              "    <tr>\n",
              "      <th>5</th>\n",
              "      <td>4010229477</td>\n",
              "      <td>79711504</td>\n",
              "      <td>[Mã 2611THTRANG100K hoàn 10% xu đơn 99K] [Có V...</td>\n",
              "      <td>db5ec6d79c3937c3efa8e2d6b3b1efbd</td>\n",
              "    </tr>\n",
              "    <tr>\n",
              "      <th>6</th>\n",
              "      <td>2849667018</td>\n",
              "      <td>115901754</td>\n",
              "      <td>Áo khoác Nam, Áo Blazer Nam Form Rộng phong cá...</td>\n",
              "      <td>6c0c245e3a995ec74cb869ad0776f42d</td>\n",
              "    </tr>\n",
              "    <tr>\n",
              "      <th>7</th>\n",
              "      <td>4649188271</td>\n",
              "      <td>259681663</td>\n",
              "      <td>Quần baggy nam ống rộng vải Hàn cao cấp, quần ...</td>\n",
              "      <td>41c486cc22213d29f0ad9234eb4d5898</td>\n",
              "    </tr>\n",
              "    <tr>\n",
              "      <th>8</th>\n",
              "      <td>5643790052</td>\n",
              "      <td>254592742</td>\n",
              "      <td>Áo khoác/Quần Hóa Trang Nhân Vật Hoạt Hình Ha...</td>\n",
              "      <td>aa6f1052ee55d7b568dbc5cf84242a57</td>\n",
              "    </tr>\n",
              "    <tr>\n",
              "      <th>9</th>\n",
              "      <td>7624315438</td>\n",
              "      <td>218712444</td>\n",
              "      <td>Quần Kaki Nam Nữ Ống Suông Basic Unisex - Kiểu...</td>\n",
              "      <td>077b4f12cd804b2d491422438f8b5f2e</td>\n",
              "    </tr>\n",
              "  </tbody>\n",
              "</table>\n",
              "</div>"
            ],
            "text/plain": [
              "       item_id  ...                          image_id\n",
              "0  13137587503  ...  1e10457a0d8a5d93003ba4b7eb70624f\n",
              "1   9742055201  ...  b2612c1a8242069aced2f2f26b592f38\n",
              "2   8929441063  ...  aa02567dcbe0710ff304f42abbf06b24\n",
              "3   3554096264  ...  1d33bcd9977a02c305fa241575bad7de\n",
              "4   6662844741  ...  6d67f18b6dd6be0a116a5f841f891375\n",
              "5   4010229477  ...  db5ec6d79c3937c3efa8e2d6b3b1efbd\n",
              "6   2849667018  ...  6c0c245e3a995ec74cb869ad0776f42d\n",
              "7   4649188271  ...  41c486cc22213d29f0ad9234eb4d5898\n",
              "8   5643790052  ...  aa6f1052ee55d7b568dbc5cf84242a57\n",
              "9   7624315438  ...  077b4f12cd804b2d491422438f8b5f2e\n",
              "\n",
              "[10 rows x 4 columns]"
            ]
          },
          "metadata": {},
          "execution_count": 18
        },
        {
          "output_type": "stream",
          "name": "stdout",
          "text": [
            "time: 299 ms (started: 2021-12-01 13:53:25 +00:00)\n"
          ]
        }
      ]
    },
    {
      "cell_type": "markdown",
      "metadata": {
        "id": "Uj2NvIV_9IWo"
      },
      "source": [
        "Check number of rows"
      ]
    },
    {
      "cell_type": "code",
      "metadata": {
        "colab": {
          "base_uri": "https://localhost:8080/"
        },
        "id": "tNJycW8duMYE",
        "outputId": "5d6bdc6f-9494-446a-dec9-51871cd816d2"
      },
      "source": [
        "print(df.shape[0])"
      ],
      "execution_count": 19,
      "outputs": [
        {
          "output_type": "stream",
          "name": "stdout",
          "text": [
            "77998\n",
            "time: 2.74 ms (started: 2021-12-01 13:53:33 +00:00)\n"
          ]
        }
      ]
    }
  ]
}