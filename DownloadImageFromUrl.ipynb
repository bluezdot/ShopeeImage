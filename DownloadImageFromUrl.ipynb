{
  "nbformat": 4,
  "nbformat_minor": 0,
  "metadata": {
    "colab": {
      "name": "DownloadImageFromUrl.ipynb",
      "provenance": [],
      "collapsed_sections": [],
      "mount_file_id": "1NpoTnqISqDKdcOZgsggoJOnpcXH71Gf3",
      "authorship_tag": "ABX9TyMHjRMoehJ0K1xei4o5K/w8",
      "include_colab_link": true
    },
    "kernelspec": {
      "display_name": "Python 3",
      "name": "python3"
    },
    "language_info": {
      "name": "python"
    }
  },
  "cells": [
    {
      "cell_type": "markdown",
      "metadata": {
        "id": "view-in-github",
        "colab_type": "text"
      },
      "source": [
        "<a href=\"https://colab.research.google.com/github/bluezdot/ShopeeImageData/blob/main/DownloadImageFromUrl.ipynb\" target=\"_parent\"><img src=\"https://colab.research.google.com/assets/colab-badge.svg\" alt=\"Open In Colab\"/></a>"
      ]
    },
    {
      "cell_type": "code",
      "metadata": {
        "colab": {
          "base_uri": "https://localhost:8080/"
        },
        "id": "ajXOY7sHsnMU",
        "outputId": "c7fb0139-a484-43b6-bf40-a6e46d4c9b4f"
      },
      "source": [
        "!pip install ipython-autotime\n",
        "%load_ext autotime"
      ],
      "execution_count": null,
      "outputs": [
        {
          "output_type": "stream",
          "name": "stdout",
          "text": [
            "Collecting ipython-autotime\n",
            "  Downloading ipython_autotime-0.3.1-py2.py3-none-any.whl (6.8 kB)\n",
            "Requirement already satisfied: ipython in /usr/local/lib/python3.7/dist-packages (from ipython-autotime) (5.5.0)\n",
            "Requirement already satisfied: prompt-toolkit<2.0.0,>=1.0.4 in /usr/local/lib/python3.7/dist-packages (from ipython->ipython-autotime) (1.0.18)\n",
            "Requirement already satisfied: pickleshare in /usr/local/lib/python3.7/dist-packages (from ipython->ipython-autotime) (0.7.5)\n",
            "Requirement already satisfied: traitlets>=4.2 in /usr/local/lib/python3.7/dist-packages (from ipython->ipython-autotime) (5.1.1)\n",
            "Requirement already satisfied: pygments in /usr/local/lib/python3.7/dist-packages (from ipython->ipython-autotime) (2.6.1)\n",
            "Requirement already satisfied: pexpect in /usr/local/lib/python3.7/dist-packages (from ipython->ipython-autotime) (4.8.0)\n",
            "Requirement already satisfied: simplegeneric>0.8 in /usr/local/lib/python3.7/dist-packages (from ipython->ipython-autotime) (0.8.1)\n",
            "Requirement already satisfied: setuptools>=18.5 in /usr/local/lib/python3.7/dist-packages (from ipython->ipython-autotime) (57.4.0)\n",
            "Requirement already satisfied: decorator in /usr/local/lib/python3.7/dist-packages (from ipython->ipython-autotime) (4.4.2)\n",
            "Requirement already satisfied: six>=1.9.0 in /usr/local/lib/python3.7/dist-packages (from prompt-toolkit<2.0.0,>=1.0.4->ipython->ipython-autotime) (1.15.0)\n",
            "Requirement already satisfied: wcwidth in /usr/local/lib/python3.7/dist-packages (from prompt-toolkit<2.0.0,>=1.0.4->ipython->ipython-autotime) (0.2.5)\n",
            "Requirement already satisfied: ptyprocess>=0.5 in /usr/local/lib/python3.7/dist-packages (from pexpect->ipython->ipython-autotime) (0.7.0)\n",
            "Installing collected packages: ipython-autotime\n",
            "Successfully installed ipython-autotime-0.3.1\n",
            "time: 1.97 ms (started: 2021-12-04 10:07:08 +00:00)\n"
          ]
        }
      ]
    },
    {
      "cell_type": "code",
      "metadata": {
        "colab": {
          "base_uri": "https://localhost:8080/"
        },
        "id": "eUkyAwzBldSH",
        "outputId": "9cf2bc29-aedd-4315-ce8b-7180c852eee5"
      },
      "source": [
        "from google.colab import drive\n",
        "drive.mount('/content/drive')"
      ],
      "execution_count": null,
      "outputs": [
        {
          "output_type": "stream",
          "name": "stdout",
          "text": [
            "Drive already mounted at /content/drive; to attempt to forcibly remount, call drive.mount(\"/content/drive\", force_remount=True).\n",
            "time: 5.29 ms (started: 2021-12-04 10:07:08 +00:00)\n"
          ]
        }
      ]
    },
    {
      "cell_type": "code",
      "metadata": {
        "colab": {
          "base_uri": "https://localhost:8080/"
        },
        "id": "29oW8vr4oQDi",
        "outputId": "dead600e-2d0c-48ca-cba6-b655dc877be3"
      },
      "source": [
        "pip install pillow"
      ],
      "execution_count": null,
      "outputs": [
        {
          "output_type": "stream",
          "name": "stdout",
          "text": [
            "Requirement already satisfied: pillow in /usr/local/lib/python3.7/dist-packages (7.1.2)\n",
            "time: 2.92 s (started: 2021-12-04 10:07:08 +00:00)\n"
          ]
        }
      ]
    },
    {
      "cell_type": "markdown",
      "metadata": {
        "id": "JfDUwtIQo62u"
      },
      "source": [
        "- In this step, you need provide a data file"
      ]
    },
    {
      "cell_type": "code",
      "metadata": {
        "colab": {
          "base_uri": "https://localhost:8080/",
          "height": 224
        },
        "id": "mHg_nXUNojWV",
        "outputId": "26607c0b-8279-4c59-8c70-19e1dc6df52d"
      },
      "source": [
        "import urllib.request\n",
        "from PIL import Image\n",
        "import pandas as pd \n",
        "\n",
        "data_path = '/content/drive/MyDrive/Colab Notebooks/csvdata/shopee78000.csv' # path -> data\n",
        "df = pd.read_csv(data_path) # read the data\n",
        "df.head(5) # review the data\n"
      ],
      "execution_count": null,
      "outputs": [
        {
          "output_type": "execute_result",
          "data": {
            "text/html": [
              "<div>\n",
              "<style scoped>\n",
              "    .dataframe tbody tr th:only-of-type {\n",
              "        vertical-align: middle;\n",
              "    }\n",
              "\n",
              "    .dataframe tbody tr th {\n",
              "        vertical-align: top;\n",
              "    }\n",
              "\n",
              "    .dataframe thead th {\n",
              "        text-align: right;\n",
              "    }\n",
              "</style>\n",
              "<table border=\"1\" class=\"dataframe\">\n",
              "  <thead>\n",
              "    <tr style=\"text-align: right;\">\n",
              "      <th></th>\n",
              "      <th>item_id</th>\n",
              "      <th>shop_id</th>\n",
              "      <th>title</th>\n",
              "      <th>image_id</th>\n",
              "    </tr>\n",
              "  </thead>\n",
              "  <tbody>\n",
              "    <tr>\n",
              "      <th>0</th>\n",
              "      <td>13137587503</td>\n",
              "      <td>475419989</td>\n",
              "      <td>Áo giữ nhiệt nam co dãn 4 chiều, áo thun giữ n...</td>\n",
              "      <td>1e10457a0d8a5d93003ba4b7eb70624f</td>\n",
              "    </tr>\n",
              "    <tr>\n",
              "      <th>1</th>\n",
              "      <td>9742055201</td>\n",
              "      <td>299400775</td>\n",
              "      <td>Mũ lưỡi trai ❤️ Nón kết thêu chữ Memorie phong...</td>\n",
              "      <td>b2612c1a8242069aced2f2f26b592f38</td>\n",
              "    </tr>\n",
              "    <tr>\n",
              "      <th>2</th>\n",
              "      <td>8929441063</td>\n",
              "      <td>201774917</td>\n",
              "      <td>Quần đùi nam GUZADO Vải Gió Cao Cấp,Siêu nhẹ t...</td>\n",
              "      <td>aa02567dcbe0710ff304f42abbf06b24</td>\n",
              "    </tr>\n",
              "    <tr>\n",
              "      <th>3</th>\n",
              "      <td>3554096264</td>\n",
              "      <td>257372007</td>\n",
              "      <td>Áo thun Unisex N7 Basic Tee phông trơn nam nữ ...</td>\n",
              "      <td>1d33bcd9977a02c305fa241575bad7de</td>\n",
              "    </tr>\n",
              "    <tr>\n",
              "      <th>4</th>\n",
              "      <td>6662844741</td>\n",
              "      <td>27228264</td>\n",
              "      <td>[Mã 2611THTRANG100K hoàn 10% xu đơn 99K] Áo Ho...</td>\n",
              "      <td>6d67f18b6dd6be0a116a5f841f891375</td>\n",
              "    </tr>\n",
              "  </tbody>\n",
              "</table>\n",
              "</div>"
            ],
            "text/plain": [
              "       item_id  ...                          image_id\n",
              "0  13137587503  ...  1e10457a0d8a5d93003ba4b7eb70624f\n",
              "1   9742055201  ...  b2612c1a8242069aced2f2f26b592f38\n",
              "2   8929441063  ...  aa02567dcbe0710ff304f42abbf06b24\n",
              "3   3554096264  ...  1d33bcd9977a02c305fa241575bad7de\n",
              "4   6662844741  ...  6d67f18b6dd6be0a116a5f841f891375\n",
              "\n",
              "[5 rows x 4 columns]"
            ]
          },
          "metadata": {},
          "execution_count": 4
        },
        {
          "output_type": "stream",
          "name": "stdout",
          "text": [
            "time: 1.9 s (started: 2021-12-04 10:07:11 +00:00)\n"
          ]
        }
      ]
    },
    {
      "cell_type": "code",
      "metadata": {
        "colab": {
          "base_uri": "https://localhost:8080/"
        },
        "id": "XvsP-j-Yontl",
        "outputId": "31c5d048-33e2-4235-a726-5c381380a461"
      },
      "source": [
        "image_id_list = df['image_id']\n",
        "for image_id in image_id_list[:]:\n",
        "    image_url = f'https://cf.shopee.vn/file/{image_id}' # url image of each product\n",
        "    path = '/content/drive/MyDrive/Colab Notebooks/shopeeimage' # folder to save image, you can change this \n",
        "    urllib.request.urlretrieve(image_url, f'{path}/{image_id}.png')\n",
        "\n",
        "    # img = Image.open(f'/image_file600/{image_id}.png')\n"
      ],
      "execution_count": null,
      "outputs": [
        {
          "output_type": "stream",
          "name": "stdout",
          "text": [
            "time: 1min 40s (started: 2021-12-04 10:56:39 +00:00)\n"
          ]
        }
      ]
    },
    {
      "cell_type": "code",
      "metadata": {
        "colab": {
          "base_uri": "https://localhost:8080/"
        },
        "id": "12g9YapRqcw1",
        "outputId": "6e3b7349-223c-464e-cf2b-f632691a9737"
      },
      "source": [
        "# FIND THE NEXT IMAGES TO CONTINUE TO GET\n",
        "\n",
        "import os\n",
        "path, dirs, files = next(os.walk(\"/content/drive/MyDrive/Colab Notebooks/shopeeimage\"))\n",
        "file_count = len(files)\n",
        "# print(file_count)\n",
        "\n",
        "print(list(image_id_list).index(image_id))\n",
        "# !note\n",
        "#1: 9844 files\n",
        "#2: 19772 files\n",
        "#3: 24584 files\n",
        "# 41942\n",
        "# 43514\n",
        "# 56648\n",
        "# 73692"
      ],
      "execution_count": null,
      "outputs": [
        {
          "output_type": "stream",
          "name": "stdout",
          "text": [
            "74070\n",
            "time: 1.08 s (started: 2021-12-04 10:59:02 +00:00)\n"
          ]
        }
      ]
    },
    {
      "cell_type": "code",
      "metadata": {
        "colab": {
          "base_uri": "https://localhost:8080/"
        },
        "id": "PUzC5PJX1H3q",
        "outputId": "ad1d5eb6-b9f8-4bc8-c4d5-bb6186cfdeae"
      },
      "source": [
        "''' CHECK NOT IN FILE\n",
        "for i in image_id_list[:10000]:\n",
        "    if f'{i}.png' not in files:\n",
        "        image_url = f'https://cf.shopee.vn/file/{i}' # url image of each product\n",
        "        path = '/content/drive/MyDrive/Colab Notebooks/shopeeimage' # folder to save image, you can change this \n",
        "        urllib.request.urlretrieve(image_url, f'{path}/{i}.png')'''"
      ],
      "execution_count": null,
      "outputs": [
        {
          "name": "stdout",
          "output_type": "stream",
          "text": [
            "time: 1.01 s (started: 2021-12-02 04:10:00 +00:00)\n"
          ]
        }
      ]
    }
  ]
}